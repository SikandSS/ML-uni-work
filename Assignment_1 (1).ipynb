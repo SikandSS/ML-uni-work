{
  "nbformat": 4,
  "nbformat_minor": 0,
  "metadata": {
    "kernelspec": {
      "display_name": "Python 3",
      "language": "python",
      "name": "python3"
    },
    "language_info": {
      "codemirror_mode": {
        "name": "ipython",
        "version": 3
      },
      "file_extension": ".py",
      "mimetype": "text/x-python",
      "name": "python",
      "nbconvert_exporter": "python",
      "pygments_lexer": "ipython3",
      "version": "3.8.3"
    },
    "colab": {
      "name": "Assignment_1.ipynb",
      "provenance": [],
      "collapsed_sections": []
    }
  },
  "cells": [
    {
      "cell_type": "markdown",
      "metadata": {
        "id": "A07a985TL6LJ"
      },
      "source": [
        "### Q1. Create a program that asks the user to enter their name and their age. Print out a message addressed to them that tells them the year that they will turn 100 years old. \n",
        "#### Extras: \n",
        "#### 1. Add on to the previous program by asking the user for another number and printing out that many copies of the previous message. \n",
        "#### 2. Print out that many copies of the previous message on separate lines. (Hint: the string \"\\n is the same as pressing the ENTER button) "
      ]
    },
    {
      "cell_type": "code",
      "metadata": {
        "id": "IztTSIrQL6LP"
      },
      "source": [
        "def copy100(name, age, copy = 1):\n",
        "    for i in range(copy):\n",
        "        print(\"hey \"+ name+ \" you will turn 100 yeas old in \" + str(100 - age)+ \".\")"
      ],
      "execution_count": 1,
      "outputs": []
    },
    {
      "cell_type": "code",
      "metadata": {
        "colab": {
          "base_uri": "https://localhost:8080/"
        },
        "id": "i-Pw3eZgL6LQ",
        "outputId": "0f3e35e2-cd81-4e7d-99a5-87b198422b53"
      },
      "source": [
        "name = str(input())\n",
        "age = int(input())\n",
        "copy = int(input())\n",
        "copy100(name,age,copy)"
      ],
      "execution_count": 2,
      "outputs": [
        {
          "output_type": "stream",
          "text": [
            "Sikand\n",
            "21\n",
            "3\n",
            "hey Sikand you will turn 100 yeas old in 79.\n",
            "hey Sikand you will turn 100 yeas old in 79.\n",
            "hey Sikand you will turn 100 yeas old in 79.\n"
          ],
          "name": "stdout"
        }
      ]
    },
    {
      "cell_type": "markdown",
      "metadata": {
        "id": "NqZNxi4uL6LR"
      },
      "source": [
        "### Q2. Take a list, say for example this one: \n",
        "#### a = [1, 1, 2, 3, 5, 8, 13, 21, 34, 55, 89] \n",
        "#### and write a program that prints out all the elements of the list that are less than 5. Extras: \n",
        "#### 1. Instead of printing the elements one by one, make a new list that has all the elements less than 5 from this list in it and print out this new list. \n",
        "#### 2. Write this in one line of Python. \n",
        "#### 3. Ask the user for a number and return a list that contains only elements from the original list a that are smaller than that number given by the user. \n"
      ]
    },
    {
      "cell_type": "code",
      "metadata": {
        "id": "bO0KVyRiL6LS"
      },
      "source": [
        "a = [1, 1, 2, 3, 5, 8, 13, 21, 34, 55, 89]"
      ],
      "execution_count": 3,
      "outputs": []
    },
    {
      "cell_type": "markdown",
      "metadata": {
        "id": "eB5W3s_OL6LS"
      },
      "source": [
        "#### 1st part & 2nd part"
      ]
    },
    {
      "cell_type": "code",
      "metadata": {
        "id": "yD2-0MsML6LS"
      },
      "source": [
        "updatedList = [ i for i in a if i<5]"
      ],
      "execution_count": 4,
      "outputs": []
    },
    {
      "cell_type": "code",
      "metadata": {
        "colab": {
          "base_uri": "https://localhost:8080/"
        },
        "id": "VvVhgQkzL6LS",
        "outputId": "5c6c82e1-5300-4e7a-9ddd-b7745a1f1696"
      },
      "source": [
        "print(updatedList)"
      ],
      "execution_count": 5,
      "outputs": [
        {
          "output_type": "stream",
          "text": [
            "[1, 1, 2, 3]\n"
          ],
          "name": "stdout"
        }
      ]
    },
    {
      "cell_type": "markdown",
      "metadata": {
        "id": "Ixiej92GL6LT"
      },
      "source": [
        "#### 3rd part"
      ]
    },
    {
      "cell_type": "code",
      "metadata": {
        "colab": {
          "base_uri": "https://localhost:8080/"
        },
        "id": "_6HVgmX0L6LT",
        "outputId": "430ebf79-bfb9-4797-d370-7df29246a1e9"
      },
      "source": [
        "number = int(input())\n",
        "updatedListv2 = [ i for i in a if i<number]\n",
        "print(updatedListv2)"
      ],
      "execution_count": 6,
      "outputs": [
        {
          "output_type": "stream",
          "text": [
            "67\n",
            "[1, 1, 2, 3, 5, 8, 13, 21, 34, 55]\n"
          ],
          "name": "stdout"
        }
      ]
    },
    {
      "cell_type": "markdown",
      "metadata": {
        "id": "axnKhmmSL6LU"
      },
      "source": [
        "### Q3. Write a program that asks the user how many Fibonacci numbers to generate and then generates them. Take this opportunity to think about how you can use functions. Make sure to ask the user to enter the number of numbers in the sequence to generate.(Hint: The Fibonacci seqence is a sequence of numbers where the next number in the sequence is the sum of the previous two numbers in the sequence. The sequence looks like this: 1, 1, 2, 3, 5, 8, 13, …) \n"
      ]
    },
    {
      "cell_type": "code",
      "metadata": {
        "id": "ybeV9K8KL6LU"
      },
      "source": [
        "import numpy as np\n",
        "def fibonacci(number):\n",
        "    fib = np.arange(number  + 1)\n",
        "    for i in range(2,number+1):\n",
        "        fib[i] = fib[i-1] + fib[i-2]\n",
        "    print(fib)"
      ],
      "execution_count": 7,
      "outputs": []
    },
    {
      "cell_type": "code",
      "metadata": {
        "colab": {
          "base_uri": "https://localhost:8080/"
        },
        "id": "34X3733UL6LW",
        "outputId": "1a9f4bae-b1d0-4beb-a4c9-22f9b346caa4"
      },
      "source": [
        "number = int(input())\n",
        "fibonacci(number)"
      ],
      "execution_count": 8,
      "outputs": [
        {
          "output_type": "stream",
          "text": [
            "15\n",
            "[  0   1   1   2   3   5   8  13  21  34  55  89 144 233 377 610]\n"
          ],
          "name": "stdout"
        }
      ]
    },
    {
      "cell_type": "markdown",
      "metadata": {
        "id": "NwPQ6fz7L6LW"
      },
      "source": [
        "### Q4. Write a program (function!) that takes a list and returns a new list that contains all the elements of the first list minus all the duplicates. \n",
        "#### Extras: \n",
        "● Write two different functions to do this - one using a loop and constructing a list, and another using sets. \n"
      ]
    },
    {
      "cell_type": "code",
      "metadata": {
        "id": "v_rWXWdFL6LW"
      },
      "source": [
        "def removeDuplicate(a):\n",
        "    newList = []\n",
        "    [newList.append(i) for i in a if i not in newList]\n",
        "    return newList\n",
        "        "
      ],
      "execution_count": 9,
      "outputs": []
    },
    {
      "cell_type": "code",
      "metadata": {
        "colab": {
          "base_uri": "https://localhost:8080/"
        },
        "id": "Hwp0mHGZL6LX",
        "outputId": "865e7bb6-e6f0-4398-d97f-1907c607862a"
      },
      "source": [
        "a = [1, 1, 2,2, 3, 5, 8, 13, 21,34, 34, 55, 89, 7 , 7]\n",
        "print(1 in a)"
      ],
      "execution_count": 10,
      "outputs": [
        {
          "output_type": "stream",
          "text": [
            "True\n"
          ],
          "name": "stdout"
        }
      ]
    },
    {
      "cell_type": "code",
      "metadata": {
        "colab": {
          "base_uri": "https://localhost:8080/"
        },
        "id": "_7l0Z28WL6LX",
        "outputId": "5db871cd-0f21-4945-d5b4-24da0d56e150"
      },
      "source": [
        "newList = removeDuplicate(a)\n",
        "print(newList)"
      ],
      "execution_count": 11,
      "outputs": [
        {
          "output_type": "stream",
          "text": [
            "[1, 2, 3, 5, 8, 13, 21, 34, 55, 89, 7]\n"
          ],
          "name": "stdout"
        }
      ]
    },
    {
      "cell_type": "markdown",
      "metadata": {
        "id": "ivWiaJvDL6LX"
      },
      "source": [
        "#### Using sets"
      ]
    },
    {
      "cell_type": "code",
      "metadata": {
        "id": "9YboSSMNL6LX"
      },
      "source": [
        "def removeDuplicateUsingSets(a):\n",
        "    newList = list(set(a)) ## make new list sorted ie ordering of previous list is lost \n",
        "    return newList"
      ],
      "execution_count": 12,
      "outputs": []
    },
    {
      "cell_type": "code",
      "metadata": {
        "colab": {
          "base_uri": "https://localhost:8080/"
        },
        "id": "mxMuYunDL6LY",
        "outputId": "76997466-aeb0-47db-ef93-5fb77c2e6f4c"
      },
      "source": [
        "newList = removeDuplicateUsingSets(a)\n",
        "print(newList)"
      ],
      "execution_count": 13,
      "outputs": [
        {
          "output_type": "stream",
          "text": [
            "[1, 2, 3, 34, 5, 7, 8, 13, 21, 55, 89]\n"
          ],
          "name": "stdout"
        }
      ]
    },
    {
      "cell_type": "markdown",
      "metadata": {
        "id": "Qxfe1hOPL6LY"
      },
      "source": [
        "### Q5. Ask the user for a number and determine whether the number is prime or not. (For those who have forgotten, a prime number is a number that has no divisors.). Use functions\n"
      ]
    },
    {
      "cell_type": "code",
      "metadata": {
        "id": "TC-9O6HFL6LY"
      },
      "source": [
        "def primeChecker(number):\n",
        "    count = 0\n",
        "    for i in range(2,number):\n",
        "        if number%i == 0:\n",
        "            count +=1\n",
        "    if count == 0:\n",
        "        return \"Prime\"\n",
        "    return \"Not Prime\""
      ],
      "execution_count": 14,
      "outputs": []
    },
    {
      "cell_type": "code",
      "metadata": {
        "colab": {
          "base_uri": "https://localhost:8080/"
        },
        "id": "T6ImurdnL6LY",
        "outputId": "c7ec3ba1-e885-48af-a2eb-11772ad00851"
      },
      "source": [
        "for i in range(5):\n",
        "    number = int(input())\n",
        "    print(primeChecker(number))"
      ],
      "execution_count": 15,
      "outputs": [
        {
          "output_type": "stream",
          "text": [
            "25\n",
            "Not Prime\n",
            "3\n",
            "Prime\n",
            "67\n",
            "Prime\n",
            "33\n",
            "Not Prime\n",
            "38\n",
            "Not Prime\n"
          ],
          "name": "stdout"
        }
      ]
    },
    {
      "cell_type": "code",
      "metadata": {
        "id": "qnCdNfCjL6LZ"
      },
      "source": [
        ""
      ],
      "execution_count": null,
      "outputs": []
    }
  ]
}